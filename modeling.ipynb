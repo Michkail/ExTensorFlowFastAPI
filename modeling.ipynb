{
 "cells": [
  {
   "cell_type": "code",
   "execution_count": 2,
   "metadata": {
    "collapsed": true
   },
   "outputs": [
    {
     "name": "stderr",
     "output_type": "stream",
     "text": [
      "2023-03-13 16:32:47.298541: I tensorflow/core/platform/cpu_feature_guard.cc:193] This TensorFlow binary is optimized with oneAPI Deep Neural Network Library (oneDNN) to use the following CPU instructions in performance-critical operations:  AVX2 FMA\n",
      "To enable them in other operations, rebuild TensorFlow with the appropriate compiler flags.\n"
     ]
    }
   ],
   "source": [
    "import tensorflow as tf\n",
    "import numpy as np\n",
    "from tensorflow import keras"
   ]
  },
  {
   "cell_type": "code",
   "execution_count": 3,
   "outputs": [
    {
     "name": "stderr",
     "output_type": "stream",
     "text": [
      "2023-03-13 16:32:56.084529: I tensorflow/core/platform/cpu_feature_guard.cc:193] This TensorFlow binary is optimized with oneAPI Deep Neural Network Library (oneDNN) to use the following CPU instructions in performance-critical operations:  AVX2 FMA\n",
      "To enable them in other operations, rebuild TensorFlow with the appropriate compiler flags.\n"
     ]
    },
    {
     "name": "stdout",
     "output_type": "stream",
     "text": [
      "Epoch 1/70\n",
      "1/1 [==============================] - 0s 390ms/step - loss: 21.3421\n",
      "Epoch 2/70\n",
      "1/1 [==============================] - 0s 5ms/step - loss: 17.0639\n",
      "Epoch 3/70\n",
      "1/1 [==============================] - 0s 5ms/step - loss: 13.6924\n",
      "Epoch 4/70\n",
      "1/1 [==============================] - 0s 4ms/step - loss: 11.0343\n",
      "Epoch 5/70\n",
      "1/1 [==============================] - 0s 6ms/step - loss: 8.9377\n",
      "Epoch 6/70\n",
      "1/1 [==============================] - 0s 4ms/step - loss: 7.2830\n",
      "Epoch 7/70\n",
      "1/1 [==============================] - 0s 5ms/step - loss: 5.9759\n",
      "Epoch 8/70\n",
      "1/1 [==============================] - 0s 5ms/step - loss: 4.9425\n",
      "Epoch 9/70\n",
      "1/1 [==============================] - 0s 5ms/step - loss: 4.1246\n",
      "Epoch 10/70\n",
      "1/1 [==============================] - 0s 5ms/step - loss: 3.4762\n",
      "Epoch 11/70\n",
      "1/1 [==============================] - 0s 4ms/step - loss: 2.9613\n",
      "Epoch 12/70\n",
      "1/1 [==============================] - 0s 6ms/step - loss: 2.5516\n",
      "Epoch 13/70\n",
      "1/1 [==============================] - 0s 4ms/step - loss: 2.2247\n",
      "Epoch 14/70\n",
      "1/1 [==============================] - 0s 5ms/step - loss: 1.9630\n",
      "Epoch 15/70\n",
      "1/1 [==============================] - 0s 4ms/step - loss: 1.7528\n",
      "Epoch 16/70\n",
      "1/1 [==============================] - 0s 4ms/step - loss: 1.5831\n",
      "Epoch 17/70\n",
      "1/1 [==============================] - 0s 6ms/step - loss: 1.4454\n",
      "Epoch 18/70\n",
      "1/1 [==============================] - 0s 6ms/step - loss: 1.3330\n",
      "Epoch 19/70\n",
      "1/1 [==============================] - 0s 5ms/step - loss: 1.2405\n",
      "Epoch 20/70\n",
      "1/1 [==============================] - 0s 5ms/step - loss: 1.1638\n",
      "Epoch 21/70\n",
      "1/1 [==============================] - 0s 6ms/step - loss: 1.0996\n",
      "Epoch 22/70\n",
      "1/1 [==============================] - 0s 5ms/step - loss: 1.0454\n",
      "Epoch 23/70\n",
      "1/1 [==============================] - 0s 6ms/step - loss: 0.9989\n",
      "Epoch 24/70\n",
      "1/1 [==============================] - 0s 6ms/step - loss: 0.9588\n",
      "Epoch 25/70\n",
      "1/1 [==============================] - 0s 5ms/step - loss: 0.9237\n",
      "Epoch 26/70\n",
      "1/1 [==============================] - 0s 6ms/step - loss: 0.8926\n",
      "Epoch 27/70\n",
      "1/1 [==============================] - 0s 3ms/step - loss: 0.8647\n",
      "Epoch 28/70\n",
      "1/1 [==============================] - 0s 4ms/step - loss: 0.8394\n",
      "Epoch 29/70\n",
      "1/1 [==============================] - 0s 5ms/step - loss: 0.8162\n",
      "Epoch 30/70\n",
      "1/1 [==============================] - 0s 6ms/step - loss: 0.7948\n",
      "Epoch 31/70\n",
      "1/1 [==============================] - 0s 8ms/step - loss: 0.7748\n",
      "Epoch 32/70\n",
      "1/1 [==============================] - 0s 5ms/step - loss: 0.7560\n",
      "Epoch 33/70\n",
      "1/1 [==============================] - 0s 7ms/step - loss: 0.7382\n",
      "Epoch 34/70\n",
      "1/1 [==============================] - 0s 7ms/step - loss: 0.7213\n",
      "Epoch 35/70\n",
      "1/1 [==============================] - 0s 12ms/step - loss: 0.7051\n",
      "Epoch 36/70\n",
      "1/1 [==============================] - 0s 5ms/step - loss: 0.6895\n",
      "Epoch 37/70\n",
      "1/1 [==============================] - 0s 6ms/step - loss: 0.6744\n",
      "Epoch 38/70\n",
      "1/1 [==============================] - 0s 6ms/step - loss: 0.6599\n",
      "Epoch 39/70\n",
      "1/1 [==============================] - 0s 6ms/step - loss: 0.6458\n",
      "Epoch 40/70\n",
      "1/1 [==============================] - 0s 7ms/step - loss: 0.6321\n",
      "Epoch 41/70\n",
      "1/1 [==============================] - 0s 7ms/step - loss: 0.6188\n",
      "Epoch 42/70\n",
      "1/1 [==============================] - 0s 7ms/step - loss: 0.6058\n",
      "Epoch 43/70\n",
      "1/1 [==============================] - 0s 6ms/step - loss: 0.5932\n",
      "Epoch 44/70\n",
      "1/1 [==============================] - 0s 7ms/step - loss: 0.5808\n",
      "Epoch 45/70\n",
      "1/1 [==============================] - 0s 7ms/step - loss: 0.5688\n",
      "Epoch 46/70\n",
      "1/1 [==============================] - 0s 7ms/step - loss: 0.5570\n",
      "Epoch 47/70\n",
      "1/1 [==============================] - 0s 6ms/step - loss: 0.5455\n",
      "Epoch 48/70\n",
      "1/1 [==============================] - 0s 6ms/step - loss: 0.5342\n",
      "Epoch 49/70\n",
      "1/1 [==============================] - 0s 8ms/step - loss: 0.5232\n",
      "Epoch 50/70\n",
      "1/1 [==============================] - 0s 8ms/step - loss: 0.5124\n",
      "Epoch 51/70\n",
      "1/1 [==============================] - 0s 7ms/step - loss: 0.5019\n",
      "Epoch 52/70\n",
      "1/1 [==============================] - 0s 5ms/step - loss: 0.4915\n",
      "Epoch 53/70\n",
      "1/1 [==============================] - 0s 5ms/step - loss: 0.4814\n",
      "Epoch 54/70\n",
      "1/1 [==============================] - 0s 8ms/step - loss: 0.4715\n",
      "Epoch 55/70\n",
      "1/1 [==============================] - 0s 6ms/step - loss: 0.4618\n",
      "Epoch 56/70\n",
      "1/1 [==============================] - 0s 4ms/step - loss: 0.4523\n",
      "Epoch 57/70\n",
      "1/1 [==============================] - 0s 8ms/step - loss: 0.4430\n",
      "Epoch 58/70\n",
      "1/1 [==============================] - 0s 7ms/step - loss: 0.4339\n",
      "Epoch 59/70\n",
      "1/1 [==============================] - 0s 7ms/step - loss: 0.4250\n",
      "Epoch 60/70\n",
      "1/1 [==============================] - 0s 8ms/step - loss: 0.4163\n",
      "Epoch 61/70\n",
      "1/1 [==============================] - 0s 7ms/step - loss: 0.4077\n",
      "Epoch 62/70\n",
      "1/1 [==============================] - 0s 8ms/step - loss: 0.3993\n",
      "Epoch 63/70\n",
      "1/1 [==============================] - 0s 7ms/step - loss: 0.3911\n",
      "Epoch 64/70\n",
      "1/1 [==============================] - 0s 6ms/step - loss: 0.3831\n",
      "Epoch 65/70\n",
      "1/1 [==============================] - 0s 6ms/step - loss: 0.3752\n",
      "Epoch 66/70\n",
      "1/1 [==============================] - 0s 6ms/step - loss: 0.3675\n",
      "Epoch 67/70\n",
      "1/1 [==============================] - 0s 7ms/step - loss: 0.3600\n",
      "Epoch 68/70\n",
      "1/1 [==============================] - 0s 6ms/step - loss: 0.3526\n",
      "Epoch 69/70\n",
      "1/1 [==============================] - 0s 7ms/step - loss: 0.3453\n",
      "Epoch 70/70\n",
      "1/1 [==============================] - 0s 7ms/step - loss: 0.3382\n"
     ]
    },
    {
     "data": {
      "text/plain": "<keras.callbacks.History at 0x12b227d00>"
     },
     "execution_count": 3,
     "metadata": {},
     "output_type": "execute_result"
    }
   ],
   "source": [
    "model = tf.keras.Sequential([keras.layers.Dense(units=1, input_shape=[1])])\n",
    "model.compile(optimizer='sgd', loss='mean_squared_error')\n",
    "\n",
    "xs = np.array([-1.0,  0.0, 1.0, 2.0, 3.0, 4.0], dtype=float)\n",
    "ys = np.array([-3.0, -1.0, 1.0, 3.0, 5.0, 7.0], dtype=float)\n",
    "\n",
    "model.fit(xs, ys, epochs=70)"
   ],
   "metadata": {
    "collapsed": false
   }
  },
  {
   "cell_type": "code",
   "execution_count": 4,
   "outputs": [
    {
     "name": "stdout",
     "output_type": "stream",
     "text": [
      "1/1 [==============================] - 0s 101ms/step\n",
      "[[17.299036]]\n"
     ]
    }
   ],
   "source": [
    "print(model.predict([10.0]))"
   ],
   "metadata": {
    "collapsed": false
   }
  },
  {
   "cell_type": "code",
   "execution_count": 7,
   "outputs": [],
   "source": [
    "model.save('model.h5')"
   ],
   "metadata": {
    "collapsed": false
   }
  },
  {
   "cell_type": "code",
   "execution_count": null,
   "outputs": [],
   "source": [],
   "metadata": {
    "collapsed": false
   }
  }
 ],
 "metadata": {
  "kernelspec": {
   "display_name": "Python 3",
   "language": "python",
   "name": "python3"
  },
  "language_info": {
   "codemirror_mode": {
    "name": "ipython",
    "version": 2
   },
   "file_extension": ".py",
   "mimetype": "text/x-python",
   "name": "python",
   "nbconvert_exporter": "python",
   "pygments_lexer": "ipython2",
   "version": "2.7.6"
  }
 },
 "nbformat": 4,
 "nbformat_minor": 0
}
